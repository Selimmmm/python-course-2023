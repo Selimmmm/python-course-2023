{
 "cells": [
  {
   "cell_type": "markdown",
   "metadata": {},
   "source": [
    "# **Python**\n",
    "# **TP 5 - Requêtes HTTP et API**\n",
    "\n",
    "\n",
    "***\n",
    "\n",
    "[**Notions**](#notions)\n",
    "\n",
    "1. [Le package `requests` et les API](#1a)\n",
    "2. [La requête `GET`](#2)\n",
    "3. [Status codes (codes de réponses HTTP)](#3)\n",
    "4. [Headers de réponses](#4)\n",
    "5. [Paramètres de requêtes](#5)\n",
    "6. [Headers de requêtes](#6)\n",
    "7. [Types de requêtes / HTTP Methods](#7)\n",
    "\n",
    "\n",
    "\n",
    "\n",
    "*** \n",
    "\n",
    "[**Exercices**](#exercices)\n",
    "\n",
    "- Exercice 1 - Manipulation de résultats de requêtes\n",
    "- Exercice 2 - Authentification et API Le Seigneur des Anneaux\n",
    "\n",
    "***"
   ]
  },
  {
   "cell_type": "markdown",
   "metadata": {},
   "source": [
    "# Exercices"
   ]
  },
  {
   "cell_type": "markdown",
   "metadata": {},
   "source": [
    "## Exercice 1 - Authentification et API Le Seigneur des Anneaux\n",
    "\n",
    "- [Documentation](https://the-one-api.dev/documentation)\n",
    "- Attention ! Pas plus de 100 requêtes toutes les 10 minutes (utiliser `time.sleep()` entre les requêtes si nécessaire)\n",
    "- A part pour l'endpoint `/book` qui renvoie la liste des livres, il faut être authentifié\n",
    "\n",
    "- 1. Inscrivez-vous en créant un compte [ici](https://the-one-api.dev/sign-up)\n",
    "\n",
    "- 2. Faites une requête pour rapatrier la liste de tous les livres (cf exemple)\n",
    "\n",
    "- 3. Créer la liste de tous les personnages\n",
    "\n",
    "- 4. Créer la liste de tous les personnages qui ne sont pas des humains"
   ]
  },
  {
   "cell_type": "code",
   "execution_count": 2,
   "metadata": {},
   "outputs": [
    {
     "name": "stdout",
     "output_type": "stream",
     "text": [
      "Bonjour\n",
      "5 secondes sans réponse.... Bonjour !!\n"
     ]
    }
   ],
   "source": [
    "import time\n",
    "print(\"Bonjour\")\n",
    "time.sleep(5)\n",
    "print(\"5 secondes sans réponse.... Bonjour !!\")"
   ]
  },
  {
   "cell_type": "code",
   "execution_count": 3,
   "metadata": {},
   "outputs": [],
   "source": [
    "# Liste de tous les livres\n",
    "from pprint import pprint\n",
    "import requests\n",
    "url = \"https://the-one-api.dev/v2/book\"\n",
    "r = requests.get(url)\n",
    "json_data = r.json()\n",
    "# print(json_data)"
   ]
  },
  {
   "cell_type": "code",
   "execution_count": 4,
   "metadata": {},
   "outputs": [
    {
     "name": "stdout",
     "output_type": "stream",
     "text": [
      "{'_id': '5cd99d4bde30eff6ebccfcec',\n",
      " 'birth': 'YT 1300',\n",
      " 'death': 'FA 465',\n",
      " 'gender': 'Male',\n",
      " 'hair': 'Golden',\n",
      " 'height': '',\n",
      " 'name': 'Finrod',\n",
      " 'race': 'Elf',\n",
      " 'realm': '',\n",
      " 'spouse': 'Loved ,Amarië but they never married',\n",
      " 'wikiUrl': 'http://lotr.wikia.com//wiki/Finrod'}\n",
      "933 personnages\n",
      "545 personnages non humain\n",
      "545 personnages non humain\n"
     ]
    }
   ],
   "source": [
    "url = \"https://the-one-api.dev/v2/character\"\n",
    "headers = {\"Authorization\" : \"Bearer p5Lvqe8RXe73x7Sej2qr\"} # Remplacer XXXXXXXXXXXX par la clef affichée lors de l'inscription \n",
    "                                                    # (ou disponible sur le site dans la rubrique account en haut à droite)\n",
    "r = requests.get(url, headers=headers)\n",
    "json_data = r.json()\n",
    "pprint(json_data[\"docs\"][300])\n",
    "\n",
    "personnages = [p[\"name\"] for p in json_data[\"docs\"]]\n",
    "print(len(personnages), \"personnages\")\n",
    "\n",
    "\n",
    "# Première solution : on filtre\n",
    "not_humans = [p[\"name\"] for p in json_data[\"docs\"] if p[\"race\"]!='Human']\n",
    "print(len(not_humans), \"personnages non humain\")\n",
    "\n",
    "# Deuxième solution, grâce à la documentation de l'API :\n",
    "url = \"https://the-one-api.dev/v2//character?race!=Human\"\n",
    "r = requests.get(url, headers=headers)\n",
    "json_data = r.json()\n",
    "not_humans = json_data[\"docs\"]\n",
    "print(len(not_humans), \"personnages non humain\")\n"
   ]
  },
  {
   "cell_type": "code",
   "execution_count": 5,
   "metadata": {},
   "outputs": [
    {
     "data": {
      "text/plain": [
       "{'batchcomplete': '',\n",
       " 'warnings': {'extracts': {'*': 'HTML may be malformed and/or unbalanced and may omit inline images. Use at your own risk. Known problems are listed at https://www.mediawiki.org/wiki/Special:MyLanguage/Extension:TextExtracts#Caveats.'}},\n",
       " 'query': {'pages': {'5225': {'pageid': 5225,\n",
       "    'ns': 0,\n",
       "    'title': 'Code',\n",
       "    'extract': '<p class=\"mw-empty-elt\">\\n</p>\\n\\n\\n<link rel=\"mw-deduplicated-inline-style\" href=\"mw-data:TemplateStyles:r1033289096\">\\n<p>In communications and information processing, <b>code</b> is a system of rules to convert information—such as a letter, word, sound, image, or gesture—into another form, sometimes shortened or secret, for communication through a communication channel or storage in a storage medium. An early example is an invention of language, which enabled a person, through speech, to communicate what they thought, saw, heard, or felt to others. But speech limits the range of communication to the distance a voice can carry and limits the audience to those present when the speech is uttered. The invention of writing, which converted spoken language into visual symbols, extended the range of communication across space and time.\\n</p><p>The process of <b>encoding</b> converts information from a source into symbols for communication or storage. <b>Decoding</b> is the reverse process, converting code symbols back into a form that the recipient understands, such as English or/and Spanish.\\n</p><p>One reason for coding is to enable communication in places where ordinary plain language, spoken or written, is difficult or impossible. For example, semaphore, where the configuration of flags held by a signaler or the arms of a semaphore tower encodes parts of the message, typically individual letters, and numbers. Another person standing a great distance away can interpret the flags and reproduce the words sent.\\n</p>\\n\\n\\n'}}}}"
      ]
     },
     "execution_count": 5,
     "metadata": {},
     "output_type": "execute_result"
    }
   ],
   "source": [
    "# Cette url \n",
    "mot_clef = \"Code\"\n",
    "url = f\"https://en.wikipedia.org/w/api.php?action=query&prop=extracts&format=json&exintro=&titles={mot_clef}\"\n",
    "# Package the request, send the request and catch the response: r\n",
    "r = requests.get(url)\n",
    "\n",
    "# Decode the JSON data into a dictionary: json_data\n",
    "json_data = r.json()\n",
    "json_data\n",
    "\n",
    "# RUVQlI4E6uYyx4yIWr_O\n"
   ]
  },
  {
   "cell_type": "markdown",
   "metadata": {},
   "source": [
    "## Exercice facultatif - Manipulation de résultats de requêtes\n",
    "\n",
    "- 1. En utilisant une requête `GET`sur l'url du premier exemple : \n",
    "    - Créer la liste de tous les partis politiques\n",
    "    - Trouver tous les députés qui ont aussi un autre mandat\n",
    "    - Trouver tous les députés qui ont eu un premier mandat avant l'an 2000\n",
    "    - Etablir la liste des liens Twitter des députés renvoyés par l'API\n",
    "    \n",
    "    \n",
    "- 2. En utilisant une requête `GET`sur l'url d'un lien Twitter de la liste précédente : \n",
    "    - Interpréter une valeur de l'attribut headers de la réponse\n",
    "    - Afficher le code source de la page du profil Twitter d'un député"
   ]
  },
  {
   "cell_type": "code",
   "execution_count": 6,
   "metadata": {},
   "outputs": [
    {
     "name": "stdout",
     "output_type": "stream",
     "text": [
      "['Parti progressiste démocratique guadeloupéen', 'Progrès-974', 'Europe Écologie Les Verts', 'Réunion libre', 'Régions et peuples solidaires', \"Rézistan's Égalité 974\", 'Debout la France', 'Péyi-A', 'La France Insoumise', 'Ensemble', 'Les Républicains', 'Les Écologistes-mouvement écologiste independant', 'Parti progressiste martiniquais', 'Union des démocrates européens, centristes et indépendants', 'Parti socialiste', 'Parti radical de gauche', 'Pour la Réunion', 'Rassemblement national', 'Alliance centriste', 'Ambition Réunion', 'Parti communiste français'] \n",
      "\n",
      "0 deputes avec un autre mandat\n",
      "\n",
      "['Nicolas Forissier', 'Nicolas Dupont-Aignan', 'Charles de Courson', 'Jean-Pierre Pont', 'Marc Le Fur', 'Michel Herbillon', 'Jean-Luc Warsmann']\n",
      "\n",
      "\n",
      "['Nicolas Forissier', 'Nicolas Dupont-Aignan', 'Charles de Courson', 'Jean-Pierre Pont', 'Marc Le Fur', 'Michel Herbillon', 'Jean-Luc Warsmann']\n",
      "\n",
      "\n",
      "556 liens twitter\n"
     ]
    }
   ],
   "source": [
    "## Créer la liste de tous les partis politiques\n",
    "\n",
    "import requests\n",
    "import re\n",
    "\n",
    "r = requests.get(\"https://www.nosdeputes.fr/deputes/enmandat/json\")\n",
    "d = r.json()\n",
    "d = d[\"deputes\"] # on prend la valeur de la clef \"deputes\" pour ne pas avoir à toujours réécrire la clef \n",
    "\n",
    "# Le Set permet de prendre les valeurs uniques sans répétition\n",
    "partis = set([dep[\"depute\"]['parti_ratt_financier'] for dep in d])\n",
    "\n",
    "\n",
    "# On retire la chaîne de caractères vide\n",
    "# \"if p\" est équivalent à \"if p != '' \" \n",
    "# C'est à dire qu'on test que p n'est pas la chaîne de caractères vide\n",
    "partis = [p for p in partis if p] \n",
    "print(partis, \"\\n\")\n",
    "\n",
    "# Deputes avec un autre mandat\n",
    "autres_mandats = [dep[\"depute\"][\"nom\"] for dep in d if dep[\"depute\"][\"autres_mandats\"] != []]\n",
    "print(len(autres_mandats), \"deputes avec un autre mandat\\n\")\n",
    "\n",
    "\n",
    "# Deputes avec un mandat avant 2000\n",
    "deputes_mandats_avant_2000 = []\n",
    "for dep in d:\n",
    "    \n",
    "    anciens_mandats = dep[\"depute\"][\"anciens_mandats\"]\n",
    "    #print(dep[\"depute\"][\"nom\"])\n",
    "    years = []\n",
    "    for d_mandat in anciens_mandats:\n",
    "        # re.findall() nous permet de matcher un pattern\n",
    "        # ici on cherche à matcher une date : \\d indique un chiffre\n",
    "        # on cherche au format : XX / XX / XX\n",
    "        # donc le pattern est : \\d \\d / \\d \\d / \\d\\d\n",
    "        dates = re.findall(r'\\d\\d/\\d\\d/\\d\\d\\d\\d', d_mandat[\"mandat\"])\n",
    "        # on garde l'année\n",
    "        years_mandat = [x.split(\"/\")[-1] for x in dates]\n",
    "        # on convertit en entier\n",
    "        years_mandat = [int(x) for x in years_mandat]\n",
    "        # on garde les années trouvées\n",
    "        years = years + years_mandat\n",
    "    \n",
    "    # on vérifie si la liste est non vide\n",
    "    if years != [] and min(years) < 2000:\n",
    "            deputes_mandats_avant_2000.append(dep[\"depute\"][\"nom\"])\n",
    "            \n",
    "print(deputes_mandats_avant_2000)    \n",
    "print(\"\\n\")\n",
    "\n",
    "\n",
    "import datetime\n",
    "\n",
    "# Autre solution\n",
    "deputes_mandats_avant_2000 = []\n",
    "for dep in d:\n",
    "    \n",
    "    anciens_mandats = dep[\"depute\"][\"anciens_mandats\"]\n",
    "    #print(dep[\"depute\"][\"nom\"])\n",
    "    years = []\n",
    "    for d_mandat in anciens_mandats:\n",
    "        # exemple : 20/06/2012 / 20/06/2017 / fin de législature\n",
    "        dates = d_mandat[\"mandat\"].split(\" / \")\n",
    "    \n",
    "        \n",
    "        for item in dates:\n",
    "            try:\n",
    "                day, month, year = tuple(item.split(\"/\"))\n",
    "                years.append(int(year))\n",
    "            except:\n",
    "                pass\n",
    "            \n",
    "    # on vérifie si la liste est non vide\n",
    "    if years != [] and min(years) < 2000:\n",
    "            deputes_mandats_avant_2000.append(dep[\"depute\"][\"nom\"])\n",
    "print(deputes_mandats_avant_2000)  \n",
    "print(\"\\n\")\n",
    "\n",
    "\n",
    "\n",
    "# Tous les liens twitters\n",
    "l_twitter = []\n",
    "\n",
    "for i in range(len(d)):\n",
    "    sites = [list(x.values())[0] for x in d[i][\"depute\"][\"sites_web\"]]\n",
    "    twitters = [x for x in sites if x.startswith(\"https://twitter\")]\n",
    "    try:\n",
    "        twitter = twitters[0]\n",
    "        l_twitter.append(twitter)\n",
    "    except:\n",
    "        pass\n",
    "    \n",
    "print(len(l_twitter), \"liens twitter\")"
   ]
  },
  {
   "cell_type": "code",
   "execution_count": null,
   "metadata": {},
   "outputs": [],
   "source": []
  }
 ],
 "metadata": {
  "kernelspec": {
   "display_name": "Python 3 (ipykernel)",
   "language": "python",
   "name": "python3"
  },
  "language_info": {
   "codemirror_mode": {
    "name": "ipython",
    "version": 3
   },
   "file_extension": ".py",
   "mimetype": "text/x-python",
   "name": "python",
   "nbconvert_exporter": "python",
   "pygments_lexer": "ipython3",
   "version": "3.9.7"
  }
 },
 "nbformat": 4,
 "nbformat_minor": 4
}
