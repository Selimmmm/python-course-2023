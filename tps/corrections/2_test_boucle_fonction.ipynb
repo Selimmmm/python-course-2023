{
 "cells": [
  {
   "cell_type": "markdown",
   "metadata": {},
   "source": [
    "# **Python**\n",
    "# **TP 2 - Tests, boucles et fonctions**"
   ]
  },
  {
   "cell_type": "markdown",
   "metadata": {},
   "source": [
    "# Exercices"
   ]
  },
  {
   "cell_type": "markdown",
   "metadata": {},
   "source": [
    "### Manipulation d'entiers\n",
    "- Ecrire un programme qui peut trouver tous les nombres divisibles par 31 mais pas par 2 entre 2000 et 3000\n",
    "- Ecrire une autre version de ce programme pour qu'il ne renvoie plus les nombres divisibles par 3\n",
    "- Si vous avez utiliser une boucle for, réécrire ce programme avec une boucle while et inversement"
   ]
  },
  {
   "cell_type": "code",
   "execution_count": 3,
   "metadata": {},
   "outputs": [
    {
     "data": {
      "text/plain": [
       "False"
      ]
     },
     "execution_count": 3,
     "metadata": {},
     "output_type": "execute_result"
    }
   ],
   "source": [
    "def is_divisible_by_x(number, x):\n",
    "    return  number % x == 0 \n",
    "\n",
    "(not is_divisible_by_x(310, 2)) and is_divisible_by_x(310, 31)"
   ]
  },
  {
   "cell_type": "code",
   "execution_count": 4,
   "metadata": {},
   "outputs": [],
   "source": [
    "selected_numbers = []\n",
    "for number in range(2000, 3000):\n",
    "    if (not is_divisible_by_x(number, 2)) and is_divisible_by_x(number, 31):\n",
    "        selected_numbers.append(number)"
   ]
  },
  {
   "cell_type": "code",
   "execution_count": 5,
   "metadata": {},
   "outputs": [],
   "source": [
    "selected_numbers = [\n",
    "    number\n",
    "    for number in range(2000, 3000)\n",
    "    if (not is_divisible_by_x(number, 2)) and is_divisible_by_x(number, 31)\n",
    "]"
   ]
  },
  {
   "cell_type": "code",
   "execution_count": 6,
   "metadata": {},
   "outputs": [],
   "source": [
    "selected_numbers = [\n",
    "    number\n",
    "    for number in range(2000, 3000)\n",
    "    if (not number % 2 == 0) and number % 31 == 0 \n",
    "]"
   ]
  },
  {
   "cell_type": "code",
   "execution_count": 7,
   "metadata": {},
   "outputs": [
    {
     "data": {
      "text/plain": [
       "[2015,\n",
       " 2077,\n",
       " 2139,\n",
       " 2201,\n",
       " 2263,\n",
       " 2325,\n",
       " 2387,\n",
       " 2449,\n",
       " 2511,\n",
       " 2573,\n",
       " 2635,\n",
       " 2697,\n",
       " 2759,\n",
       " 2821,\n",
       " 2883,\n",
       " 2945]"
      ]
     },
     "execution_count": 7,
     "metadata": {},
     "output_type": "execute_result"
    }
   ],
   "source": [
    "selected_numbers"
   ]
  },
  {
   "cell_type": "markdown",
   "metadata": {},
   "source": [
    "## TODO"
   ]
  },
  {
   "cell_type": "code",
   "execution_count": 24,
   "metadata": {},
   "outputs": [
    {
     "data": {
      "text/plain": [
       "True"
      ]
     },
     "execution_count": 24,
     "metadata": {},
     "output_type": "execute_result"
    }
   ],
   "source": [
    "def function_with_for():\n",
    "    \"\"\"Retourne tous les nombres divisibles par 31, mais pas par 2 entre 2000 et 3000\"\"\"\n",
    "    return [number for number in range(2000, 3001) if number % 31 == 0 and number % 2 != 0]\n",
    "\n",
    "\n",
    "def function_with_while() -> list:\n",
    "    \"\"\"Retourne tous les nombres divisibles par x, mais pas par 2 entre 2000 et 3000 avec la boucle while\"\"\"\n",
    "    l = []\n",
    "\n",
    "    number = 2000\n",
    "    while number <= 3000:\n",
    "        if number % 31 == 0 and number % 2 != 0:\n",
    "            l.append(number)\n",
    "        number+=1\n",
    "    return l\n",
    "            \n",
    "function_with_for() == function_with_while()"
   ]
  },
  {
   "cell_type": "markdown",
   "metadata": {},
   "source": [
    "### Manipulation de chaîne de caractères\n",
    "- Definir une liste contenant les mois de l\\'année\n",
    "- Trier cette liste par ordre alphabétique\n",
    "- Créer un dictionnaire qui contient en clef les noms des mois et en valeur le nombre de lettres dans le nom du mois\n",
    "- Ecrire une fonction qui prend en argument une chaîne de caractères et renvoie True si elle est de longueur plus grande que 6\n",
    "- Créer la liste des noms des mois qui ont plus de 6 lettres\n"
   ]
  },
  {
   "cell_type": "code",
   "execution_count": 8,
   "metadata": {},
   "outputs": [
    {
     "data": {
      "text/plain": [
       "['decembre',\n",
       " 'février',\n",
       " 'janvier',\n",
       " 'juillet',\n",
       " 'novembre',\n",
       " 'octobre',\n",
       " 'septembre']"
      ]
     },
     "execution_count": 8,
     "metadata": {},
     "output_type": "execute_result"
    }
   ],
   "source": [
    "liste_mois = [\n",
    "    \"janvier\",\n",
    "    \"février\",\n",
    "    \"mars\",\n",
    "    \"avril\",\n",
    "    \"mai\",\n",
    "    \"juin\",\n",
    "    \"juillet\",\n",
    "    \"août\",\n",
    "    \"septembre\",\n",
    "    \"octobre\",\n",
    "    \"novembre\",\n",
    "    \"decembre\"\n",
    "]\n",
    "\n",
    "# Réalise un tri en place / effet de bord\n",
    "liste_mois.sort()\n",
    "\n",
    "# Ou fonction sorted qui crée une nouvelle liste et la renvoie\n",
    "liste_mois = sorted(liste_mois) # équivalent à ci-dessus\n",
    "\n",
    "# Dictionnaire : dict-comprehension\n",
    "d = {\n",
    "    mois: len(mois)\n",
    "    for mois in liste_mois\n",
    "}\n",
    "\n",
    "# equivalent à faire ça :\n",
    "d = {}\n",
    "for mois in liste_mois:\n",
    "    d[mois] = len(mois)\n",
    "    \n",
    "# \n",
    "def is_longer_than_6(text):\n",
    "    return len(text) >= 6\n",
    "\n",
    "\n",
    "liste_mois_longer_than_6 = [mois for mois in liste_mois if is_longer_than_6(mois)]\n",
    "liste_mois_longer_than_6"
   ]
  },
  {
   "cell_type": "markdown",
   "metadata": {},
   "source": [
    "### Définition de fonctions :\n",
    "- Définir une fonction pour compter le nombre de voyelles dans une chaîne de caractères\n",
    "- L'appliquer au texte ci-dessous \n",
    "- Définir une fonction pour compter le nombre de consonnes dans une chaîne de caractères\n",
    "- L'appliquer au texte ci-dessous \n",
    "- Définir une fonction qui renvoie le nombre de voyelles et le nombre de consonnes dans une chaîne de caractères"
   ]
  },
  {
   "cell_type": "code",
   "execution_count": 9,
   "metadata": {},
   "outputs": [],
   "source": [
    "text = \"\"\"Lorem Ipsum is simply dummy text of the printing and typesetting industry. \n",
    "          Lorem Ipsum has been the industry's standard dummy text ever since the 1500s, \n",
    "          when an unknown printer took a galley of type and scrambled it to make a type specimen book. \n",
    "          It has survived not only five centuries, but also the leap into electronic typesetting, \n",
    "          remaining essentially unchanged.\"\"\""
   ]
  },
  {
   "cell_type": "code",
   "execution_count": 10,
   "metadata": {},
   "outputs": [
    {
     "data": {
      "text/plain": [
       "'AEIOUY'"
      ]
     },
     "execution_count": 10,
     "metadata": {},
     "output_type": "execute_result"
    }
   ],
   "source": [
    "\"aeiouy\".upper()"
   ]
  },
  {
   "cell_type": "code",
   "execution_count": 11,
   "metadata": {},
   "outputs": [
    {
     "name": "stdout",
     "output_type": "stream",
     "text": [
      "115\n"
     ]
    }
   ],
   "source": [
    "# Methode 1\n",
    "def is_vowel(char):\n",
    "    return char in \"aeiouy\" +  \"AEIOUY\" #\"aeiouy\".upper()\n",
    "    # return char in [\"a\", \"e\", \"i\", \"o\", \"u\", \"y\"]\n",
    "\n",
    "def filter_vowels(text):\n",
    "    return [char for char in text if is_vowel(char)]\n",
    "\n",
    "def count_vowels(text):\n",
    "    return len(filter_vowels(text))\n",
    "\n",
    "print(count_vowels(text))"
   ]
  },
  {
   "cell_type": "code",
   "execution_count": 13,
   "metadata": {},
   "outputs": [
    {
     "data": {
      "text/plain": [
       "3"
      ]
     },
     "execution_count": 13,
     "metadata": {},
     "output_type": "execute_result"
    }
   ],
   "source": [
    "## Somme de booléens\n",
    "sum([True, True, False, True, False])"
   ]
  },
  {
   "cell_type": "code",
   "execution_count": 14,
   "metadata": {},
   "outputs": [
    {
     "name": "stdout",
     "output_type": "stream",
     "text": [
      "Test list_vowels True False\n",
      "Test list_digits False True\n",
      "Test list_punctuation False True\n",
      "Test list_whitespace True False\n"
     ]
    },
    {
     "data": {
      "text/plain": [
       "181"
      ]
     },
     "execution_count": 14,
     "metadata": {},
     "output_type": "execute_result"
    }
   ],
   "source": [
    "# Méthode 1 \n",
    "def is_char_in_list(char, l):\n",
    "    return char in l\n",
    "\n",
    "import string \n",
    "\n",
    "list_vowels = \"aeiouy\" + \"AEIOUY\"\n",
    "list_digits = string.digits\n",
    "list_punctuation = string.punctuation\n",
    "list_whitespace = string.whitespace\n",
    "\n",
    "print(\"Test list_vowels\",  is_char_in_list(\"a\", list_vowels), is_char_in_list(\"z\", list_vowels))\n",
    "print(\"Test list_digits\",  is_char_in_list(\"a\", list_digits), is_char_in_list(\"1\", list_digits))\n",
    "print(\"Test list_punctuation\",  is_char_in_list(\"a\", list_punctuation), is_char_in_list(\":\", list_punctuation))\n",
    "print(\"Test list_whitespace\",  is_char_in_list(\"\\x0c\", list_whitespace), is_char_in_list(\"z\", list_whitespace))\n",
    "\n",
    "\n",
    "def is_char_consonant(char):\n",
    "    return not (is_char_in_list(char, list_vowels) or \\\n",
    "           is_char_in_list(char, list_digits) or \\\n",
    "           is_char_in_list(char, list_punctuation) or \\\n",
    "           is_char_in_list(char, list_whitespace))\n",
    "    \n",
    "def count_consonants(text):\n",
    "    # Sommer une liste de booléens revient à sommer\n",
    "    # la valeur 1 pour True et 0 pour False\n",
    "    return sum([is_char_consonant(char) for char in text])\n",
    "\n",
    "count_consonants(text)"
   ]
  },
  {
   "cell_type": "code",
   "execution_count": 15,
   "metadata": {},
   "outputs": [
    {
     "data": {
      "text/plain": [
       "181"
      ]
     },
     "execution_count": 15,
     "metadata": {},
     "output_type": "execute_result"
    }
   ],
   "source": [
    "# Méthode 2\n",
    "def is_char_in_list(char, l):\n",
    "    return char in l\n",
    "\n",
    "list_global = list_vowels + list_digits + list_punctuation + list_whitespace\n",
    "\n",
    "def is_char_consonant(char, list_global=list_global):\n",
    "    return not is_char_in_list(char, list_global)\n",
    "\n",
    "def count_consonants(text):\n",
    "    return sum([is_char_consonant(char) for char in text])\n",
    "\n",
    "count_consonants(text)"
   ]
  },
  {
   "cell_type": "code",
   "execution_count": 16,
   "metadata": {},
   "outputs": [],
   "source": [
    "def count_consonants_and_vowels(text):\n",
    "    return count_consonants(text), count_vowels(text)"
   ]
  },
  {
   "cell_type": "code",
   "execution_count": 17,
   "metadata": {},
   "outputs": [
    {
     "data": {
      "text/plain": [
       "(tuple, (181, 115))"
      ]
     },
     "execution_count": 17,
     "metadata": {},
     "output_type": "execute_result"
    }
   ],
   "source": [
    "type(count_consonants_and_vowels(text)), count_consonants_and_vowels(text)"
   ]
  },
  {
   "cell_type": "code",
   "execution_count": 18,
   "metadata": {},
   "outputs": [
    {
     "name": "stdout",
     "output_type": "stream",
     "text": [
      "#Consonants : 181\n",
      "#Vowels : 115\n"
     ]
    }
   ],
   "source": [
    "count_consonants_int, count_vowels_int = count_consonants_and_vowels(text)\n",
    "print(f\"#Consonants : {count_consonants_int}\\n#Vowels : {count_vowels_int}\")"
   ]
  },
  {
   "cell_type": "code",
   "execution_count": null,
   "metadata": {},
   "outputs": [],
   "source": []
  }
 ],
 "metadata": {
  "kernelspec": {
   "display_name": "Python 3 (ipykernel)",
   "language": "python",
   "name": "python3"
  },
  "language_info": {
   "codemirror_mode": {
    "name": "ipython",
    "version": 3
   },
   "file_extension": ".py",
   "mimetype": "text/x-python",
   "name": "python",
   "nbconvert_exporter": "python",
   "pygments_lexer": "ipython3",
   "version": "3.9.7"
  }
 },
 "nbformat": 4,
 "nbformat_minor": 4
}
