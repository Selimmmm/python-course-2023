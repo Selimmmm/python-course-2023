{
 "cells": [
  {
   "cell_type": "markdown",
   "metadata": {},
   "source": [
    "# **Python**\n",
    "# **TP 2 - Tests, boucles et fonctions**"
   ]
  },
  {
   "cell_type": "markdown",
   "metadata": {},
   "source": [
    "# Exercices"
   ]
  },
  {
   "cell_type": "markdown",
   "metadata": {},
   "source": [
    "### Manipulation d'entiers\n",
    "- Ecrire un programme qui peut trouver tous les nombres divisibles par 31 mais pas par 2 entre 2000 et 3000\n",
    "- Ecrire une autre version de ce programme pour qu'il ne renvoie plus les nombres divisibles par 3\n",
    "- Si vous avez utiliser une boucle for, réécrire ce programme avec une boucle while et inversement"
   ]
  },
  {
   "cell_type": "code",
   "execution_count": 67,
   "metadata": {},
   "outputs": [
    {
     "data": {
      "text/plain": [
       "False"
      ]
     },
     "execution_count": 67,
     "metadata": {},
     "output_type": "execute_result"
    }
   ],
   "source": [
    "def is_divisible_by_x(number, x):\n",
    "    return  number % x == 0 \n",
    "\n",
    "(not is_divisible_by_x(310, 2)) and is_divisible_by_x(310, 31)"
   ]
  },
  {
   "cell_type": "code",
   "execution_count": 68,
   "metadata": {},
   "outputs": [],
   "source": [
    "selected_numbers = []\n",
    "for number in range(2000, 3000):\n",
    "    if (not is_divisible_by_x(number, 2)) and is_divisible_by_x(number, 31):\n",
    "        selected_numbers.append(number)"
   ]
  },
  {
   "cell_type": "code",
   "execution_count": 70,
   "metadata": {},
   "outputs": [],
   "source": [
    "selected_numbers = [\n",
    "    number\n",
    "    for number in range(2000, 3000)\n",
    "    if (not is_divisible_by_x(number, 2)) and is_divisible_by_x(number, 31)\n",
    "]"
   ]
  },
  {
   "cell_type": "code",
   "execution_count": 72,
   "metadata": {},
   "outputs": [],
   "source": [
    "selected_numbers = [\n",
    "    number\n",
    "    for number in range(2000, 3000)\n",
    "    if (not number % 2 == 0) and number % 31 == 0 \n",
    "]"
   ]
  },
  {
   "cell_type": "code",
   "execution_count": 73,
   "metadata": {},
   "outputs": [
    {
     "data": {
      "text/plain": [
       "[2015,\n",
       " 2077,\n",
       " 2139,\n",
       " 2201,\n",
       " 2263,\n",
       " 2325,\n",
       " 2387,\n",
       " 2449,\n",
       " 2511,\n",
       " 2573,\n",
       " 2635,\n",
       " 2697,\n",
       " 2759,\n",
       " 2821,\n",
       " 2883,\n",
       " 2945]"
      ]
     },
     "execution_count": 73,
     "metadata": {},
     "output_type": "execute_result"
    }
   ],
   "source": [
    "selected_numbers"
   ]
  },
  {
   "cell_type": "code",
   "execution_count": 61,
   "metadata": {},
   "outputs": [],
   "source": [
    "def is_divisible_by_x(x):\n",
    "    \"\"\"Retourne tous les nombres divisibles par x, mais pas par 2 entre 2000 et 3000\"\"\"\n",
    "    return [number for number in range(2000, 3001) if number % x == 0 and number % 2 != 0]\n",
    "\n",
    "\n",
    "def is_divisible_by_x_with_while(x: int) -> list:\n",
    "    \"\"\"Retourne tous les nombres divisibles par x, mais pas par 2 entre 2000 et 3000 avec la boucle while\"\"\"\n",
    "    l = []\n",
    "\n",
    "    number = 2000\n",
    "    while number <= 3000:\n",
    "        if number % x == 0 and number % 2 != 0:\n",
    "            l.append(number)"
   ]
  },
  {
   "cell_type": "markdown",
   "metadata": {},
   "source": [
    "### Manipulation de chaîne de caractères\n",
    "- Definir une liste contenant les mois de l\\'année\n",
    "- Trier cette liste par ordre alphabétique\n",
    "- Créer un dictionnaire qui contient en clef les noms des mois et en valeur le nombre de lettres dans le nom du mois\n",
    "- Ecrire une fonction qui prend en argument une chaîne de caractères et renvoie True si elle est de longueur plus grande que 6\n",
    "- Créer la liste des noms des mois qui ont plus de 6 lettres\n"
   ]
  },
  {
   "cell_type": "code",
   "execution_count": 59,
   "metadata": {},
   "outputs": [
    {
     "data": {
      "text/plain": [
       "['decembre',\n",
       " 'février',\n",
       " 'janvier',\n",
       " 'juillet',\n",
       " 'novembre',\n",
       " 'octobre',\n",
       " 'septembre']"
      ]
     },
     "execution_count": 59,
     "metadata": {},
     "output_type": "execute_result"
    }
   ],
   "source": [
    "liste_mois = [\n",
    "    \"janvier\",\n",
    "    \"février\",\n",
    "    \"mars\",\n",
    "    \"avril\",\n",
    "    \"mai\",\n",
    "    \"juin\",\n",
    "    \"juillet\",\n",
    "    \"août\",\n",
    "    \"septembre\",\n",
    "    \"octobre\",\n",
    "    \"novembre\",\n",
    "    \"decembre\"\n",
    "]\n",
    "\n",
    "#liste_mois.sort()\n",
    "\n",
    "liste_mois = sorted(liste_mois) # équivalent à ci-dessus\n",
    "\n",
    "d = {\n",
    "    mois: len(mois)\n",
    "    for mois in liste_mois\n",
    "}\n",
    "\n",
    "def is_longer_than_6(text):\n",
    "    return len(text) >= 6\n",
    "\n",
    "\n",
    "liste_mois_longer_than_6 = [mois for mois in liste_mois if is_longer_than_6(mois)]\n",
    "liste_mois_longer_than_6"
   ]
  },
  {
   "cell_type": "markdown",
   "metadata": {},
   "source": [
    "### Définition de fonctions :\n",
    "- Définir une fonction pour compter le nombre de voyelles dans une chaîne de caractères\n",
    "- L'appliquer au texte ci-dessous \n",
    "- Définir une fonction pour compter le nombre de consonnes dans une chaîne de caractères\n",
    "- L'appliquer au texte ci-dessous \n",
    "- Définir une fonction qui renvoie le nombre de voyelles et le nombre de consonnes dans une chaîne de caractères"
   ]
  },
  {
   "cell_type": "code",
   "execution_count": 2,
   "metadata": {},
   "outputs": [],
   "source": [
    "text = \"\"\"Lorem Ipsum is simply dummy text of the printing and typesetting industry. \n",
    "          Lorem Ipsum has been the industry's standard dummy text ever since the 1500s, \n",
    "          when an unknown printer took a galley of type and scrambled it to make a type specimen book. \n",
    "          It has survived not only five centuries, but also the leap into electronic typesetting, \n",
    "          remaining essentially unchanged.\"\"\""
   ]
  },
  {
   "cell_type": "code",
   "execution_count": 3,
   "metadata": {},
   "outputs": [
    {
     "data": {
      "text/plain": [
       "'AEIOUY'"
      ]
     },
     "execution_count": 3,
     "metadata": {},
     "output_type": "execute_result"
    }
   ],
   "source": [
    "\"aeiouy\".upper()"
   ]
  },
  {
   "cell_type": "code",
   "execution_count": 4,
   "metadata": {},
   "outputs": [
    {
     "name": "stdout",
     "output_type": "stream",
     "text": [
      "115\n"
     ]
    }
   ],
   "source": [
    "# Methode 1\n",
    "def is_vowel(char):\n",
    "    return char in \"aeiouy\" +  \"AEIOUY\" #\"aeiouy\".upper()\n",
    "    # return char in [\"a\", \"e\", \"i\", \"o\", \"u\", \"y\"]\n",
    "\n",
    "def filter_vowels(text):\n",
    "    return [char for char in text if is_vowel(char)]\n",
    "\n",
    "def count_vowels(text):\n",
    "    return len(filter_vowels(text))\n",
    "\n",
    "print(count_vowels(text))"
   ]
  },
  {
   "cell_type": "code",
   "execution_count": 5,
   "metadata": {},
   "outputs": [
    {
     "name": "stdout",
     "output_type": "stream",
     "text": [
      "115\n"
     ]
    }
   ],
   "source": [
    "# Methode 2\n",
    "#def is_vowel(char):\n",
    "#    return char in \"aeiouy\"\n",
    "\n",
    "def count_vowels(text):\n",
    "    return sum([char in \"aeiouy\" +  \"AEIOUY\" for char in text])\n",
    "\n",
    "print(count_vowels(text))"
   ]
  },
  {
   "cell_type": "code",
   "execution_count": 6,
   "metadata": {},
   "outputs": [
    {
     "ename": "NameError",
     "evalue": "name 'string' is not defined",
     "output_type": "error",
     "traceback": [
      "\u001b[0;31m---------------------------------------------------------------------------\u001b[0m",
      "\u001b[0;31mNameError\u001b[0m                                 Traceback (most recent call last)",
      "Input \u001b[0;32mIn [6]\u001b[0m, in \u001b[0;36m<module>\u001b[0;34m\u001b[0m\n\u001b[1;32m      3\u001b[0m     \u001b[38;5;28;01mreturn\u001b[39;00m char \u001b[38;5;129;01min\u001b[39;00m l\n\u001b[1;32m      5\u001b[0m list_vowels \u001b[38;5;241m=\u001b[39m \u001b[38;5;124m\"\u001b[39m\u001b[38;5;124maeiouy\u001b[39m\u001b[38;5;124m\"\u001b[39m \u001b[38;5;241m+\u001b[39m \u001b[38;5;124m\"\u001b[39m\u001b[38;5;124mAEIOUY\u001b[39m\u001b[38;5;124m\"\u001b[39m\n\u001b[0;32m----> 6\u001b[0m list_digits \u001b[38;5;241m=\u001b[39m \u001b[43mstring\u001b[49m\u001b[38;5;241m.\u001b[39mdigits\n\u001b[1;32m      7\u001b[0m list_punctuation \u001b[38;5;241m=\u001b[39m string\u001b[38;5;241m.\u001b[39mpunctuation\n\u001b[1;32m      8\u001b[0m list_whitespace \u001b[38;5;241m=\u001b[39m string\u001b[38;5;241m.\u001b[39mwhitespace\n",
      "\u001b[0;31mNameError\u001b[0m: name 'string' is not defined"
     ]
    }
   ],
   "source": [
    "# Méthode 1 \n",
    "def is_char_in_list(char, l):\n",
    "    return char in l\n",
    "\n",
    "\n",
    "import string \n",
    "\n",
    "list_vowels = \"aeiouy\" + \"AEIOUY\"\n",
    "list_digits = string.digits\n",
    "list_punctuation = string.punctuation\n",
    "list_whitespace = string.whitespace\n",
    "\n",
    "print(\"Test list_vowels\",  is_char_in_list(\"a\", list_vowels), is_char_in_list(\"z\", list_vowels))\n",
    "print(\"Test list_digits\",  is_char_in_list(\"a\", list_digits), is_char_in_list(\"1\", list_digits))\n",
    "print(\"Test list_punctuation\",  is_char_in_list(\"a\", list_punctuation), is_char_in_list(\":\", list_punctuation))\n",
    "print(\"Test list_whitespace\",  is_char_in_list(\"\\x0c\", list_whitespace), is_char_in_list(\"z\", list_whitespace))\n",
    "\n",
    "\n",
    "def is_char_consonant(char):\n",
    "    return not (is_char_in_list(char, list_vowels) or \\\n",
    "           is_char_in_list(char, list_digits) or \\\n",
    "           is_char_in_list(char, list_punctuation) or \\\n",
    "           is_char_in_list(char, list_whitespace))\n",
    "    \n",
    "def count_consonants(text):\n",
    "    return sum([is_char_consonant(char) for char in text])\n",
    "\n",
    "count_consonants(text)"
   ]
  },
  {
   "cell_type": "code",
   "execution_count": 132,
   "metadata": {},
   "outputs": [
    {
     "data": {
      "text/plain": [
       "181"
      ]
     },
     "execution_count": 132,
     "metadata": {},
     "output_type": "execute_result"
    }
   ],
   "source": [
    "# Méthode 2\n",
    "def is_char_in_list(char, l):\n",
    "    return char in l\n",
    "\n",
    "list_global = list_vowels + list_digits + list_punctuation + list_whitespace\n",
    "\n",
    "def is_char_consonant(char, list_global=list_global):\n",
    "    return not is_char_in_list(char, list_global)\n",
    "\n",
    "def count_consonants(text):\n",
    "    return sum([is_char_consonant(char) for char in text])\n",
    "\n",
    "count_consonants(text)"
   ]
  },
  {
   "cell_type": "code",
   "execution_count": 133,
   "metadata": {},
   "outputs": [],
   "source": [
    "def count_consonants_and_vowels(text):\n",
    "    return count_consonants(text), count_vowels(text)"
   ]
  },
  {
   "cell_type": "code",
   "execution_count": 137,
   "metadata": {},
   "outputs": [
    {
     "data": {
      "text/plain": [
       "(tuple, (181, 115))"
      ]
     },
     "execution_count": 137,
     "metadata": {},
     "output_type": "execute_result"
    }
   ],
   "source": [
    "type(count_consonants_and_vowels(text)), count_consonants_and_vowels(text)"
   ]
  },
  {
   "cell_type": "code",
   "execution_count": 141,
   "metadata": {},
   "outputs": [
    {
     "name": "stdout",
     "output_type": "stream",
     "text": [
      "#Consonants : 181\n",
      "#Vowels : 115\n"
     ]
    }
   ],
   "source": [
    "count_consonants_int, count_vowels_int = count_consonants_and_vowels(text)\n",
    "print(f\"#Consonants : {count_consonants_int}\\n#Vowels : {count_vowels_int}\")"
   ]
  },
  {
   "cell_type": "code",
   "execution_count": null,
   "metadata": {},
   "outputs": [],
   "source": []
  }
 ],
 "metadata": {
  "kernelspec": {
   "display_name": "Python 3 (ipykernel)",
   "language": "python",
   "name": "python3"
  },
  "language_info": {
   "codemirror_mode": {
    "name": "ipython",
    "version": 3
   },
   "file_extension": ".py",
   "mimetype": "text/x-python",
   "name": "python",
   "nbconvert_exporter": "python",
   "pygments_lexer": "ipython3",
   "version": "3.9.7"
  }
 },
 "nbformat": 4,
 "nbformat_minor": 4
}
