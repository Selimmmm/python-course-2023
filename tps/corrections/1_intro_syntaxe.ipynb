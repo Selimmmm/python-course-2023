{
 "cells": [
  {
   "cell_type": "markdown",
   "metadata": {},
   "source": [
    "# **Python**\n",
    "# **TP 1 - Introduction à la syntaxe de Python**"
   ]
  },
  {
   "cell_type": "markdown",
   "metadata": {},
   "source": [
    "<a id='exercices'> </a>\n",
    "# Exercices \n",
    "   - Quelle est la position de 7 dans la liste suivante"
   ]
  },
  {
   "cell_type": "code",
   "execution_count": 80,
   "metadata": {},
   "outputs": [
    {
     "data": {
      "text/plain": [
       "1"
      ]
     },
     "execution_count": 80,
     "metadata": {},
     "output_type": "execute_result"
    }
   ],
   "source": [
    "liste_nombres = [1,2,7,5,3,2]\n",
    "# En python : indice 2\n",
    "# En français : indice 3\n",
    "liste_nombres.index(2)"
   ]
  },
  {
   "cell_type": "markdown",
   "metadata": {},
   "source": [
    "- Comment afficher la dernière position de la valeur 7 dans la liste suivante : \n"
   ]
  },
  {
   "cell_type": "code",
   "execution_count": 4,
   "metadata": {},
   "outputs": [
    {
     "data": {
      "text/plain": [
       "7"
      ]
     },
     "execution_count": 4,
     "metadata": {},
     "output_type": "execute_result"
    }
   ],
   "source": [
    "liste_nombres = [1,2,7,5,3,7,7,7]\n",
    "# Ne pas oublier de retirer -1\n",
    "len(liste_nombres) - liste_nombres[::-1].index(7) - 1"
   ]
  },
  {
   "cell_type": "markdown",
   "metadata": {},
   "source": [
    "- Combien de clés a ce dictionnaire ?     "
   ]
  },
  {
   "cell_type": "code",
   "execution_count": 84,
   "metadata": {},
   "outputs": [
    {
     "data": {
      "text/plain": [
       "3"
      ]
     },
     "execution_count": 84,
     "metadata": {},
     "output_type": "execute_result"
    }
   ],
   "source": [
    "dictionnaire_articles = {\"Manger\" : \"Nutella\", \n",
    "                          \"Boire\" : [\"Eau\",\"Jus de pomme\"] , \n",
    "                          \"Dormir\" : \"Lit\" }\n",
    "len(dictionnaire_articles)"
   ]
  },
  {
   "cell_type": "markdown",
   "metadata": {},
   "source": [
    "- Que faut-il écrire pour obtenir \"Jus de pomme\" en résultat à partir du dictionnaire_articles ? Afficher cette valeur avec Python"
   ]
  },
  {
   "cell_type": "code",
   "execution_count": 85,
   "metadata": {},
   "outputs": [
    {
     "data": {
      "text/plain": [
       "'Jus de pomme'"
      ]
     },
     "execution_count": 85,
     "metadata": {},
     "output_type": "execute_result"
    }
   ],
   "source": [
    "dictionnaire_articles[\"Boire\"][1]"
   ]
  },
  {
   "cell_type": "markdown",
   "metadata": {},
   "source": [
    "Effectuer les actions suivantes : \n",
    "- Définir la liste allant de 1 à 100\n",
    "- Ajouter le nombre 101 à la fin de la liste\n",
    "- Afficher la liste\n",
    "- Ajouter le nombre 0 à la fin de la liste\n",
    "- Afficher la liste\n",
    "- Triez et affichez la liste \n",
    "- Définir une deuxième liste contenant les valeurs \"Manger\" et \"Dormir\"\n",
    "- Créer une nouvelle liste égale à la concaténation des deux listes \n",
    "- Afficher la longueur de cette nouvelle liste\n",
    "- Dans cette nouvelle liste : Afficher l’indice de l’élément 72\n",
    "- Dans cette nouvelle liste : Afficher le dernier élément\n",
    "- Dans cette nouvelle liste : Afficher la sous-liste du 10ème au 14ème élément\n",
    "- Dans cette nouvelle liste : Afficher la sous-liste du 90ème élément à la fin de la liste"
   ]
  },
  {
   "cell_type": "code",
   "execution_count": 2,
   "metadata": {},
   "outputs": [
    {
     "name": "stdout",
     "output_type": "stream",
     "text": [
      "[1, 2, 3, 4, 5, 6, 7, 8, 9, 10, 11, 12, 13, 14, 15, 16, 17, 18, 19, 20, 21, 22, 23, 24, 25, 26, 27, 28, 29, 30, 31, 32, 33, 34, 35, 36, 37, 38, 39, 40, 41, 42, 43, 44, 45, 46, 47, 48, 49, 50, 51, 52, 53, 54, 55, 56, 57, 58, 59, 60, 61, 62, 63, 64, 65, 66, 67, 68, 69, 70, 71, 72, 73, 74, 75, 76, 77, 78, 79, 80, 81, 82, 83, 84, 85, 86, 87, 88, 89, 90, 91, 92, 93, 94, 95, 96, 97, 98, 99, 100, 101]\n",
      "[1, 2, 3, 4, 5, 6, 7, 8, 9, 10, 11, 12, 13, 14, 15, 16, 17, 18, 19, 20, 21, 22, 23, 24, 25, 26, 27, 28, 29, 30, 31, 32, 33, 34, 35, 36, 37, 38, 39, 40, 41, 42, 43, 44, 45, 46, 47, 48, 49, 50, 51, 52, 53, 54, 55, 56, 57, 58, 59, 60, 61, 62, 63, 64, 65, 66, 67, 68, 69, 70, 71, 72, 73, 74, 75, 76, 77, 78, 79, 80, 81, 82, 83, 84, 85, 86, 87, 88, 89, 90, 91, 92, 93, 94, 95, 96, 97, 98, 99, 100, 101, 0]\n",
      "[0, 1, 2, 3, 4, 5, 6, 7, 8, 9, 10, 11, 12, 13, 14, 15, 16, 17, 18, 19, 20, 21, 22, 23, 24, 25, 26, 27, 28, 29, 30, 31, 32, 33, 34, 35, 36, 37, 38, 39, 40, 41, 42, 43, 44, 45, 46, 47, 48, 49, 50, 51, 52, 53, 54, 55, 56, 57, 58, 59, 60, 61, 62, 63, 64, 65, 66, 67, 68, 69, 70, 71, 72, 73, 74, 75, 76, 77, 78, 79, 80, 81, 82, 83, 84, 85, 86, 87, 88, 89, 90, 91, 92, 93, 94, 95, 96, 97, 98, 99, 100, 101]\n",
      "104\n",
      "72\n",
      "dernier : Dormir\n",
      "sous_liste de 10 à 14 inclus [10, 11, 12, 13, 14]\n",
      "sous_liste de 90 à la fin [90, 91, 92, 93, 94, 95, 96, 97, 98, 99, 100, 101, 'Manger', 'Dormir']\n"
     ]
    }
   ],
   "source": [
    "# Définir la liste allant de 1 à 100\n",
    "l = list(range(1, 101))\n",
    "\n",
    "# Ajouter le nombre 101 à la fin de la liste\n",
    "l.append(101)\n",
    "\n",
    "# Afficher la liste\n",
    "print(l)\n",
    "\n",
    "# Ajouter le nombre 0 à la fin de la liste\n",
    "l.append(0)\n",
    "\n",
    "# Afficher la liste\n",
    "print(l)\n",
    "\n",
    "# Triez et affichez la liste \n",
    "l.sort()  \n",
    "## Attention print(l.sort()) affiche None, \n",
    "## car il s'agit d'une ligne qui effectue une opération, pas l directement\n",
    "print(l)\n",
    "\n",
    "# Définir une deuxième liste contenant les valeurs \"Manger\" et \"Dormir\"\n",
    "l_string = [\"Manger\", \"Dormir\"]\n",
    "\n",
    "# Créer une nouvelle liste égale à la concaténation des deux listes \n",
    "l_new = l + l_string\n",
    "\n",
    "# Afficher la longueur de cette nouvelle liste\n",
    "print(len(l_new))\n",
    "\n",
    "# Dans cette nouvelle liste : Afficher l’indice de l’élément 72\n",
    "print(l_new.index(72))\n",
    "\n",
    "\n",
    "# Dans cette nouvelle liste : Afficher le dernier élément\n",
    "print(\"dernier :\", l_new[-1])\n",
    "\n",
    "# Dans cette nouvelle liste : Afficher la sous-liste du 10ème au 14ème élément\n",
    "print(\"sous_liste de 10 à 14 inclus\", l_new[10:15])\n",
    "\n",
    "# Dans cette nouvelle liste : Afficher la sous-liste du 90ème élément à la fin de la liste\n",
    "print(\"sous_liste de 90 à la fin\", l_new[90:])"
   ]
  },
  {
   "cell_type": "markdown",
   "metadata": {},
   "source": [
    "\n",
    "\n",
    "Construire le dictionnaire des 7 jours de la semaine avec :\n",
    "- Comme clef le nom du jour\n",
    "- Comme valeur : 1 pour lundi, 2 pour mardi...\n",
    "- Créer une nouvelle clef week-end avec pour valeur '1-2'\n",
    "- Afficher les clefs du dictionnaire\n",
    "- Afficher les valeurs du dictionnaire\n",
    "- type(item) renvoie le type de le la variable item : afficher le type de deux valeurs du dictionnaire de type différents"
   ]
  },
  {
   "cell_type": "code",
   "execution_count": 1,
   "metadata": {},
   "outputs": [
    {
     "name": "stdout",
     "output_type": "stream",
     "text": [
      "dict_keys(['lundi', 'mardi', 'mercredi', 'jeudi', 'vendredi', 'samedi', 'dimanche', 'week-end'])\n",
      "dict_values([1, 2, 3, 4, 5, 6, 7, '1-2'])\n",
      "un type string : <class 'str'>\n",
      "un type entier : <class 'int'>\n"
     ]
    }
   ],
   "source": [
    "d = {\"lundi\": 1,\n",
    "    \"mardi\": 2,\n",
    "    \"mercredi\": 3,\n",
    "    \"jeudi\": 4,\n",
    "    \"vendredi\": 5,\n",
    "    \"samedi\": 6,\n",
    "    \"dimanche\": 7}\n",
    "\n",
    "# Créer nouveau couple clef / valeurs\n",
    "d[\"week-end\"] = '1-2'\n",
    "\n",
    "# Clefs\n",
    "print(d.keys())\n",
    "\n",
    "# Valeurs\n",
    "print(d.values())\n",
    "\n",
    "\n",
    "print(\"un type string :\", type(d[\"week-end\"]))\n",
    "\n",
    "print(\"un type entier :\", type(d[\"lundi\"]))"
   ]
  },
  {
   "cell_type": "code",
   "execution_count": null,
   "metadata": {},
   "outputs": [],
   "source": []
  }
 ],
 "metadata": {
  "kernelspec": {
   "display_name": "Python 3 (ipykernel)",
   "language": "python",
   "name": "python3"
  },
  "language_info": {
   "codemirror_mode": {
    "name": "ipython",
    "version": 3
   },
   "file_extension": ".py",
   "mimetype": "text/x-python",
   "name": "python",
   "nbconvert_exporter": "python",
   "pygments_lexer": "ipython3",
   "version": "3.9.7"
  }
 },
 "nbformat": 4,
 "nbformat_minor": 4
}
