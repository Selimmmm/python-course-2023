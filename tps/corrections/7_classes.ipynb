{
 "cells": [
  {
   "cell_type": "markdown",
   "metadata": {},
   "source": [
    "# **Python**\n",
    "# **TP 7 - Les classes en Python**\n",
    "\n",
    "\n",
    "***\n"
   ]
  },
  {
   "cell_type": "markdown",
   "metadata": {},
   "source": [
    "\n",
    "# Exercices\n",
    "\n",
    "- Ecrire une classe ``FrenchTeacher`` qui :\n",
    "    - s'initialise sans argument\n",
    "    - possède une méthode ``check_first_caps`` qui prend en argument une chaîne de caractères et vérifie que la première lettre est bien une majuscule (on pourra utiliser ``.lower()`` ou ``.upper()``)\n",
    "\n",
    "\n",
    "- Ecrire une classe ``MathsTeacher`` qui :\n",
    "    - s'initialise avec un argument ``name`` qui servira à initialiser un attribut du même nom (c'est le nom du prof)\n",
    "    - possède une méthode ``compute_mean``qui prend en argument une liste et calcule sa moyenne\n",
    "    - possède une méthode ``say_hello`` qui prend en argument une instance de la classe ``MathsTeacher`` appellé ``other_instance`` et affiche (print) ``\"Salut {other_instance.name}\"``\n",
    "    \n",
    "  \n",
    "- (Plus difficile) Ecrire une classe ``HeadsOrTails`` qui permet à un utilisateur de jouer au jeu suivant :\n",
    " - On commence avec un score de 0\n",
    " - On est invité à jouer à Pile ou Face 4 fois\n",
    "    - A chaque fois, si on devine correctement, on gagne 1\n",
    "    - Sinon on perd 1\n",
    "    - Dans les deux cas on affiche un message à l'utilisateur pour lui indiqué s'il a réussi ou non\n",
    " - A la fin, on affiche le score final\n",
    " - On pourra par exemple utiliser :\n",
    "    - ``input()``pour que l'utilisateur saisisse une valeur\n",
    "    - la fonction ``randint``du package ``random``\n",
    "        \n",
    "- (Plus difficile) Implémenter une classe ``Explorer`` qui vous permet :\n",
    "    - D'afficher tous les fichiers dans le dossier courant \n",
    "    - D'afficher la liste des extensions présentes dans le dossier courant\n",
    "    - De réaliser toutes les opérations ci-dessus dans n'importe quel dossier dont on connait le chemin\n",
    "    (On pourra utiliser ``os.getcwd()``, ``os.listdir()``)\n",
    "    - Question compliquée : écrire une methode qui permet de vérifier si deux noms de fichiers diffèrent de seulement un caractère au plus.\n",
    "        - Elle peut par exemple prendre en argument deux chaînes de caractères\n",
    "        - Si mêmes chaînes exactement : renvoie True\n",
    "        - Si diffèrent seulement d'un caractère : renvoie True\n",
    "        - Dans tous les autres cas : renvoie False\n",
    "        \n",
    "    \n",
    "- (Plus difficile) Ecrire une classe ``CsvReader`` qui permet à un utilisateur de lire un fichier .csv et de mettre les valeurs dans des listes de listes\n",
    "    - La classe s'initisalise avec le chemin vers le fichier\n",
    "    - Elle permettra de gérer les types ``float``, ``int`` et ``str``\n",
    "    - Elle possède une méthode ``parse`` qui transforme ce fichier ``data.csv`` (dans le repo Git):\n",
    "    ```csv \n",
    "Voiture, Vitesse, Prix\n",
    "Twingo, 100, 10000\n",
    "Mustang, 200, 100000\n",
    "```\n",
    "    - En cette liste de liste : \n",
    "    ```python\n",
    "    [[Voiture, Vitesse, Prix], [Twingo, 100, 10000], [Mustang, 200, 100000]]\n",
    "    ````"
   ]
  },
  {
   "cell_type": "code",
   "execution_count": 63,
   "metadata": {},
   "outputs": [
    {
     "name": "stdout",
     "output_type": "stream",
     "text": [
      "Hello Roger ! you're really a nice colleague\n"
     ]
    }
   ],
   "source": [
    "class FrenchTeacher:\n",
    "    def check_first_cap(self, text):\n",
    "        return text[0].isupper()\n",
    "      \n",
    "french_teacher = FrenchTeacher()\n",
    "\n",
    "#for word in [\"Lala\", \"Jean\", \"jean\", \"Jeanne\", \"D'arc\"]:\n",
    "#    has_first_cap = french_teacher.check_first_cap(word)\n",
    "#    print(word, has_first_cap)\n",
    "    \n",
    "    \n",
    "class MathsTeacher:\n",
    "    def __init__(self, name):\n",
    "        self.name = name\n",
    "        \n",
    "    def compute_mean(self, list_):\n",
    "        return sum(list_) / len(list_)\n",
    "    \n",
    "    def say_hello(self, other_instance):\n",
    "        print(f\"Hello {other_instance.name} ! you're really a nice colleague\")\n",
    "        \n",
    "        \n",
    "jean_marie = MathsTeacher(name=\"Jean-Marie\")\n",
    "roger = MathsTeacher(name=\"Roger\")\n",
    "\n",
    "jean_marie.say_hello(roger)"
   ]
  },
  {
   "cell_type": "code",
   "execution_count": 3,
   "metadata": {},
   "outputs": [],
   "source": [
    "import random \n",
    "\n",
    "class HeadOrTails:\n",
    "    def __init__(self, n_games):\n",
    "        # Score de départ\n",
    "        self.score = 0\n",
    "        self.n_games = n_games\n",
    "    \n",
    "    def play_once(self):\n",
    "        \n",
    "        result = str(random.randint(0,1)) # 0 pour Tail et 1 pour Head\n",
    "        \n",
    "        user_tentative = None\n",
    "        while user_tentative not in [\"0\",\"1\"]:\n",
    "            print(\"Veuillez saisir 0 pour Pile ou 1 pour Face\")\n",
    "            user_tentative = input()\n",
    "            \n",
    "        if result == user_tentative:\n",
    "            print(\"Bonne réponse ! \")\n",
    "            self.score += 1\n",
    "        else:\n",
    "            print(\"Mauvaise réponse ! \")\n",
    "            self.score -= 1\n",
    "            \n",
    "    def play_n_times(self):\n",
    "        for _ in range(self.n_games):\n",
    "            self.play_once()\n",
    "            \n",
    "        print(f\"Votre score final est {self.score}\")"
   ]
  },
  {
   "cell_type": "code",
   "execution_count": 93,
   "metadata": {},
   "outputs": [
    {
     "name": "stdout",
     "output_type": "stream",
     "text": [
      "Taper 0 pour Pile ou 1 pour Face\n"
     ]
    },
    {
     "name": "stdin",
     "output_type": "stream",
     "text": [
      " 0\n"
     ]
    },
    {
     "name": "stdout",
     "output_type": "stream",
     "text": [
      "Mauvaise réponse ! \n",
      "Taper 0 pour Pile ou 1 pour Face\n"
     ]
    },
    {
     "name": "stdin",
     "output_type": "stream",
     "text": [
      " 1\n"
     ]
    },
    {
     "name": "stdout",
     "output_type": "stream",
     "text": [
      "Bonne réponse ! \n",
      "Taper 0 pour Pile ou 1 pour Face\n"
     ]
    },
    {
     "name": "stdin",
     "output_type": "stream",
     "text": [
      " 0\n"
     ]
    },
    {
     "name": "stdout",
     "output_type": "stream",
     "text": [
      "Mauvaise réponse ! \n",
      "Taper 0 pour Pile ou 1 pour Face\n"
     ]
    },
    {
     "name": "stdin",
     "output_type": "stream",
     "text": [
      " 1\n"
     ]
    },
    {
     "name": "stdout",
     "output_type": "stream",
     "text": [
      "Mauvaise réponse ! \n",
      "Taper 0 pour Pile ou 1 pour Face\n"
     ]
    },
    {
     "name": "stdin",
     "output_type": "stream",
     "text": [
      " 0\n"
     ]
    },
    {
     "name": "stdout",
     "output_type": "stream",
     "text": [
      "Mauvaise réponse ! \n",
      "Votre score final est -3\n"
     ]
    }
   ],
   "source": [
    "hot = HeadOrTails(n_games=5)\n",
    "hot.play_n_times()"
   ]
  },
  {
   "cell_type": "markdown",
   "metadata": {},
   "source": [
    "- Reprendre la classe ``HeadsOrTails`` de l'exercice précédent et implémenter une classe fille``HeadsOrTailsV2`` qui en plus : \n",
    "    - Demande le nom du joueur\n",
    "    - Le salue en début et en fin de partie\n",
    "    \n",
    "    \n",
    "- Implémenter une classe ``Personne`` qui aura pour attribut ``nom``, ``prenom`` âge\n",
    "    - Implémenter une classe fille ``Lyceen`` qui aura en plus un attribut ``classe`` et une méthode ``veillir()`` qui augmente son âge de 1\n",
    "    - Implémenter une classe fille ``Enseignant`` qui aura en plus un attribut ``matière`` et une méthode ``noter_lyceen`` qui prend un argument une instance de classe ``Lycéen`` et affiche un message avec le nom de l'étudiant et une note aléatoire entre 0 et 20\n",
    "    \n",
    "- (Plus difficile) Implémenter une classe ``MySoup`` qui : \n",
    "\n",
    "    - s'initialise avec une chaîne de caractères représentant du code html\n",
    "    - contient une méthode ``.find_all_p``qui permet de renvoyer toutes les portions contenues dans des balises ``<p>``\n",
    "    - (plus difficile) contient une méthode qui est capable de vérifier si toutes les balises sont correctement ouvertes et fermées"
   ]
  },
  {
   "cell_type": "markdown",
   "metadata": {},
   "source": [
    "- HeadsOrTailsV2"
   ]
  },
  {
   "cell_type": "code",
   "execution_count": 17,
   "metadata": {},
   "outputs": [],
   "source": [
    "import random \n",
    "\n",
    "class HeadOrTails:\n",
    "    def __init__(self, n_games):\n",
    "        # Score de départ\n",
    "        self.score = 0\n",
    "        self.n_games = n_games\n",
    "        self.EXAMPLE = \"Example\"\n",
    "    \n",
    "    def play_once(self):\n",
    "        \n",
    "        result = str(random.randint(0,1)) # 0 pour Tail et 1 pour Head\n",
    "        \n",
    "        user_tentative = None\n",
    "        while user_tentative not in [\"0\",\"1\"]:\n",
    "            print(\"Veuillez saisir 0 pour Pile ou 1 pour Face\")\n",
    "            user_tentative = input()\n",
    "            \n",
    "        if result == user_tentative:\n",
    "            print(\"Bonne réponse ! \")\n",
    "            self.score += 1\n",
    "        else:\n",
    "            print(\"Mauvaise réponse ! \")\n",
    "            self.score -= 1\n",
    "            \n",
    "    def play_n_times(self):\n",
    "        for _ in range(self.n_games):\n",
    "            self.play_once()\n",
    "            \n",
    "        print(f\"Votre score final est {self.score}\")"
   ]
  },
  {
   "cell_type": "code",
   "execution_count": 29,
   "metadata": {},
   "outputs": [],
   "source": [
    "class HeadsOrTailsV2(HeadOrTails):\n",
    "    \n",
    "    def __init__(self, n_games):\n",
    "        # Initialisation de la classe mère\n",
    "        super().__init__(n_games)\n",
    "        self.user_name = None\n",
    "        \n",
    "    def ask_name(self):\n",
    "        print('Comment vous appelez vous ?')\n",
    "        self.user_name = input()\n",
    "        \n",
    "    def say_hello(self):\n",
    "        print(f\"Salut {self.user_name}\")\n",
    "        \n",
    "    def say_goodbye(self):\n",
    "        print(f\"Au revoir {self.user_name}\")\n",
    "        \n",
    "    def play_and_greet(self):\n",
    "        self.ask_name()\n",
    "        self.say_hello()\n",
    "        self.play_once()    # Cette méthode est la méthode du parent\n",
    "        self.say_goodbye()\n",
    "              \n",
    "    def play_once(self):\n",
    "        self.ask_name()\n",
    "        self.say_hello()\n",
    "        super().play_once()    # Cette méthode est la méthode du parent\n",
    "        self.say_goodbye()        \n",
    "        "
   ]
  },
  {
   "cell_type": "code",
   "execution_count": 30,
   "metadata": {},
   "outputs": [],
   "source": [
    "game_v2 = HeadsOrTailsV2(n_games=5)"
   ]
  },
  {
   "cell_type": "code",
   "execution_count": 31,
   "metadata": {},
   "outputs": [
    {
     "name": "stdout",
     "output_type": "stream",
     "text": [
      "Comment vous appelez vous ?\n"
     ]
    },
    {
     "name": "stdin",
     "output_type": "stream",
     "text": [
      " Intervenant Python\n"
     ]
    },
    {
     "name": "stdout",
     "output_type": "stream",
     "text": [
      "Salut Intervenant Python\n",
      "Veuillez saisir 0 pour Pile ou 1 pour Face\n"
     ]
    },
    {
     "name": "stdin",
     "output_type": "stream",
     "text": [
      " 0\n"
     ]
    },
    {
     "name": "stdout",
     "output_type": "stream",
     "text": [
      "Mauvaise réponse ! \n",
      "Au revoir Intervenant Python\n"
     ]
    }
   ],
   "source": [
    "game_v2.play_once()"
   ]
  },
  {
   "cell_type": "markdown",
   "metadata": {},
   "source": [
    "Implémenter une classe Personne qui aura pour attribut nom, prenom âge\n",
    "\n",
    "Implémenter une classe fille Lyceen qui aura en plus un attribut classe et une méthode veillir() qui augmente son âge de 1\n",
    "Implémenter une classe fille Enseignant qui aura en plus un attribut matière et une méthode noter_lyceen qui prend un argument une instance de classe Lycéen et affiche un message avec le nom de l'étudiant et une note aléatoire entre 0 et 20"
   ]
  }
 ],
 "metadata": {
  "kernelspec": {
   "display_name": "Python 3 (ipykernel)",
   "language": "python",
   "name": "python3"
  },
  "language_info": {
   "codemirror_mode": {
    "name": "ipython",
    "version": 3
   },
   "file_extension": ".py",
   "mimetype": "text/x-python",
   "name": "python",
   "nbconvert_exporter": "python",
   "pygments_lexer": "ipython3",
   "version": "3.9.7"
  }
 },
 "nbformat": 4,
 "nbformat_minor": 4
}
