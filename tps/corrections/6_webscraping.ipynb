{
 "cells": [
  {
   "cell_type": "markdown",
   "metadata": {},
   "source": [
    "#  Webscraping avec python\n",
    "# **Python**\n",
    "# **TP 6 - Scraping avec BeautifulSoup**\n",
    "\n",
    "**Inspiré de : [Cours de Python pour le Data Scientist - Lino Galiana](https://linogaliana-teaching.netlify.app/manipulation/webscraping/)**\n",
    "\n",
    "\n",
    "***\n",
    "\n",
    "[**Notions**](#notions)\n",
    "\n",
    "1. [Balises HTML](#1)\n",
    "2. [Parent et enfant](#2)\n",
    "3. [Utiliser BeautifulSoup](#3)\n",
    "\n",
    "\n",
    "*** \n",
    "\n",
    "[**Exercices**](#exercices)\n",
    "\n",
    "- Exercice 1\n",
    "- Exercice 2\n",
    "\n",
    "***\n"
   ]
  },
  {
   "cell_type": "markdown",
   "metadata": {},
   "source": [
    "## Exercices"
   ]
  },
  {
   "cell_type": "markdown",
   "metadata": {},
   "source": [
    "## Exercice 1 : obtenir la liste des équipes de Ligue 1\n",
    "\n",
    "Sur la page https://fr.wikipedia.org/wiki/Championnat_de_France_de_football_2019-2020, on veut scraper le tableau de la section Participants (celui avec ces colonnes : (Club, Dernière montée, Budget en M€, ...)"
   ]
  },
  {
   "cell_type": "markdown",
   "metadata": {},
   "source": [
    "#### 1) Trouver le tableau\n"
   ]
  },
  {
   "cell_type": "code",
   "execution_count": 10,
   "metadata": {},
   "outputs": [
    {
     "name": "stdout",
     "output_type": "stream",
     "text": [
      "Name: lxml\n",
      "Version: 4.6.1\n",
      "Summary: Powerful and Pythonic XML processing library combining libxml2/libxslt with the ElementTree API.\n",
      "Home-page: https://lxml.de/\n",
      "Author: lxml dev team\n",
      "Author-email: lxml-dev@lxml.de\n",
      "License: BSD\n",
      "Location: /usr/local/lib/python3.9/site-packages\n",
      "Requires: \n",
      "Required-by: fraddress, python-docx, svglib, yfinance\n"
     ]
    }
   ],
   "source": [
    "!pip3 show lxml\n",
    "#pour l'installer :  !pip3 install lxml"
   ]
  },
  {
   "cell_type": "code",
   "execution_count": 11,
   "metadata": {},
   "outputs": [
    {
     "name": "stdout",
     "output_type": "stream",
     "text": [
      "<class 'bs4.element.Tag'>\n"
     ]
    }
   ],
   "source": [
    "import requests\n",
    "from bs4 import BeautifulSoup\n",
    "\n",
    "url_ligue_1 = \"https://fr.wikipedia.org/wiki/Championnat_de_France_de_football_2019-2020\"\n",
    "\n",
    "# Requête et son contenu\n",
    "response = requests.get(url_ligue_1)\n",
    "content = response.content\n",
    "\n",
    "# On parse le html\n",
    "page = BeautifulSoup(content, 'html')\n",
    "\n",
    "# On trouve le tableau\n",
    "tableau_participants = page.find(\n",
    "    'table', \n",
    "    class_=['wikitable', 'sortable'] # ou directement 'wikitable sortable'\n",
    ")\n",
    "\n",
    "# Dans le tableau, on trouve le fuls tbody\n",
    "table_body = tableau_participants.find('tbody')\n",
    "\n",
    "print(type(table_body))"
   ]
  },
  {
   "cell_type": "code",
   "execution_count": 12,
   "metadata": {},
   "outputs": [
    {
     "name": "stdout",
     "output_type": "stream",
     "text": [
      "34 tables récupérées et parsées\n"
     ]
    }
   ],
   "source": [
    "from urllib import request\n",
    "import ssl\n",
    "\n",
    "\n",
    "# Problème pour lire depuis https avec read_html\n",
    "# https://stackoverflow.com/questions/50969583/pandas-raises-ssl-certificateerror-when-using-method-read-html-for-https-resourc\n",
    "\n",
    "url = url_ligue_1 #\"https://example.com/data.html\"\n",
    "context = ssl._create_unverified_context()\n",
    "response = request.urlopen(url, context=context)\n",
    "html = response.read()\n",
    "\n",
    "import pandas as pd\n",
    "l_df = pd.read_html(html)\n",
    "print(len(l_df), \"tables récupérées et parsées\")"
   ]
  },
  {
   "cell_type": "code",
   "execution_count": 17,
   "metadata": {},
   "outputs": [
    {
     "data": {
      "text/html": [
       "<div>\n",
       "<style scoped>\n",
       "    .dataframe tbody tr th:only-of-type {\n",
       "        vertical-align: middle;\n",
       "    }\n",
       "\n",
       "    .dataframe tbody tr th {\n",
       "        vertical-align: top;\n",
       "    }\n",
       "\n",
       "    .dataframe thead th {\n",
       "        text-align: right;\n",
       "    }\n",
       "</style>\n",
       "<table border=\"1\" class=\"dataframe\">\n",
       "  <thead>\n",
       "    <tr style=\"text-align: right;\">\n",
       "      <th></th>\n",
       "      <th>Unnamed: 0</th>\n",
       "      <th>Passeur</th>\n",
       "      <th>Club</th>\n",
       "      <th>Pas.</th>\n",
       "    </tr>\n",
       "  </thead>\n",
       "  <tbody>\n",
       "    <tr>\n",
       "      <th>0</th>\n",
       "      <td>1</td>\n",
       "      <td>Ángel Di María</td>\n",
       "      <td>Paris Saint-Germain</td>\n",
       "      <td>14</td>\n",
       "    </tr>\n",
       "    <tr>\n",
       "      <th>1</th>\n",
       "      <td>2</td>\n",
       "      <td>Islam Slimani</td>\n",
       "      <td>AS Monaco</td>\n",
       "      <td>8</td>\n",
       "    </tr>\n",
       "    <tr>\n",
       "      <th>2</th>\n",
       "      <td>3</td>\n",
       "      <td>Yoann Court</td>\n",
       "      <td>Stade brestois 29</td>\n",
       "      <td>7</td>\n",
       "    </tr>\n",
       "    <tr>\n",
       "      <th>3</th>\n",
       "      <td>4</td>\n",
       "      <td>Pierre Lees-Melou</td>\n",
       "      <td>OGC Nice</td>\n",
       "      <td>6</td>\n",
       "    </tr>\n",
       "    <tr>\n",
       "      <th>4</th>\n",
       "      <td>5</td>\n",
       "      <td>Neymar</td>\n",
       "      <td>Paris Saint-Germain</td>\n",
       "      <td>6</td>\n",
       "    </tr>\n",
       "    <tr>\n",
       "      <th>5</th>\n",
       "      <td>6</td>\n",
       "      <td>Jonathan Ikoné</td>\n",
       "      <td>LOSC Lille</td>\n",
       "      <td>6</td>\n",
       "    </tr>\n",
       "    <tr>\n",
       "      <th>6</th>\n",
       "      <td>7</td>\n",
       "      <td>Romain Del Castillo</td>\n",
       "      <td>Stade rennais FC</td>\n",
       "      <td>5</td>\n",
       "    </tr>\n",
       "    <tr>\n",
       "      <th>7</th>\n",
       "      <td>8</td>\n",
       "      <td>Kylian Mbappé</td>\n",
       "      <td>Paris Saint-Germain</td>\n",
       "      <td>5</td>\n",
       "    </tr>\n",
       "    <tr>\n",
       "      <th>8</th>\n",
       "      <td>9</td>\n",
       "      <td>Moses Simon</td>\n",
       "      <td>FC Nantes</td>\n",
       "      <td>5</td>\n",
       "    </tr>\n",
       "    <tr>\n",
       "      <th>9</th>\n",
       "      <td>10</td>\n",
       "      <td>Gaëtan Laborde</td>\n",
       "      <td>Montpellier Hérault SC</td>\n",
       "      <td>5</td>\n",
       "    </tr>\n",
       "  </tbody>\n",
       "</table>\n",
       "</div>"
      ],
      "text/plain": [
       "   Unnamed: 0              Passeur                    Club  Pas.\n",
       "0           1       Ángel Di María     Paris Saint-Germain    14\n",
       "1           2        Islam Slimani               AS Monaco     8\n",
       "2           3          Yoann Court       Stade brestois 29     7\n",
       "3           4    Pierre Lees-Melou                OGC Nice     6\n",
       "4           5               Neymar     Paris Saint-Germain     6\n",
       "5           6       Jonathan Ikoné              LOSC Lille     6\n",
       "6           7  Romain Del Castillo        Stade rennais FC     5\n",
       "7           8        Kylian Mbappé     Paris Saint-Germain     5\n",
       "8           9          Moses Simon               FC Nantes     5\n",
       "9          10       Gaëtan Laborde  Montpellier Hérault SC     5"
      ]
     },
     "execution_count": 17,
     "metadata": {},
     "output_type": "execute_result"
    }
   ],
   "source": [
    "df[17]"
   ]
  },
  {
   "cell_type": "markdown",
   "metadata": {},
   "source": [
    "#### 2) Récupérer chaque ligne du table\n"
   ]
  },
  {
   "cell_type": "code",
   "execution_count": 2,
   "metadata": {
    "lines_to_next_cell": 2
   },
   "outputs": [],
   "source": [
    "# on recherche toutes les lignes du tableau avec la balise \"tr\"\n",
    "rows = table_body.find_all('tr')"
   ]
  },
  {
   "cell_type": "code",
   "execution_count": 3,
   "metadata": {},
   "outputs": [],
   "source": [
    "# Example : \n",
    "row = rows[12]\n",
    "row = row.text.split(\"\\n\")\n",
    "row = [x for x in row if x != \"\"]"
   ]
  },
  {
   "cell_type": "code",
   "execution_count": 4,
   "metadata": {},
   "outputs": [],
   "source": [
    "# On reproduit cette logique sur toutes les lignes\n",
    "rows_cleaned = []\n",
    "for row in rows:\n",
    "    row_cleaned = row.text.split(\"\\n\")\n",
    "    row_cleaned = [x for x in row_cleaned if x != \"\"]\n",
    "    rows_cleaned.append(row_cleaned)\n",
    "    \n",
    "rows_cleaned = [[x for x in row.text.split(\"\\n\") if x != \"\"] for row in rows] "
   ]
  },
  {
   "cell_type": "code",
   "execution_count": 5,
   "metadata": {},
   "outputs": [
    {
     "data": {
      "text/plain": [
       "['FC Nantes',\n",
       " '2013',\n",
       " '70',\n",
       " '12e',\n",
       " ' Christian Gourcuff',\n",
       " '2019',\n",
       " 'Stade de la Beaujoire - Louis Fonteneau',\n",
       " '35\\xa0322',\n",
       " '51']"
      ]
     },
     "execution_count": 5,
     "metadata": {},
     "output_type": "execute_result"
    }
   ],
   "source": [
    "# Example\n",
    "row = rows[12]\n",
    "values = row.find_all(\"td\")\n",
    "values = [tag.text.strip(\"\\n\") for tag in values]\n",
    "values"
   ]
  },
  {
   "cell_type": "code",
   "execution_count": 6,
   "metadata": {},
   "outputs": [],
   "source": [
    "# On reproduit cette logique sur toutes les lignes\n",
    "l_values = []\n",
    "\n",
    "# On récupère les entêtes avec th\n",
    "values = rows[0].find_all(\"th\")\n",
    "values = [tag.text.strip(\"\\n\") for tag in values]\n",
    "l_values.append(values)\n",
    "\n",
    "for row in rows:\n",
    "    # On récupère les valeurs dans les cellules\n",
    "    values = row.find_all(\"td\")\n",
    "    values = [tag.text.strip(\"\\n\") for tag in values]\n",
    "    l_values.append(values)"
   ]
  },
  {
   "cell_type": "code",
   "execution_count": 20,
   "metadata": {},
   "outputs": [],
   "source": [
    "# l_values"
   ]
  },
  {
   "cell_type": "markdown",
   "metadata": {},
   "source": [
    "## Exercice 2\n",
    "- A partir de la suivante : [pokedex](https://pokemondb.net/pokedex/national), l'objectif est de constituer la liste de tous les pokemons\n",
    " - 1. Dans un premier temps, on voudrait la liste avec nom, numéro et types pour chaque pokémon\n",
    " - 2. Ensuite, on souhaiterait aussi garder l'url pour chaque pokemon (par exemple en utilisant l'attribut ``href``) pour pouvoir ensuite faire une requête ``GET``sur cette page (par exemple : https://pokemondb.net/pokedex/venusaur) et récupérer les données de taille et de poids"
   ]
  },
  {
   "cell_type": "code",
   "execution_count": 18,
   "metadata": {},
   "outputs": [],
   "source": [
    "## Question 1 \n",
    "\n",
    "import requests\n",
    "from bs4 import BeautifulSoup\n",
    "import os\n",
    "\n",
    "\n",
    "url = \"https://pokemondb.net/pokedex/national\"\n",
    "\n",
    "# Requête\n",
    "response = requests.get(url)\n",
    "content = response.content\n",
    "page = BeautifulSoup(content, 'html.parser')\n",
    "\n",
    "\n",
    "# Division infocard pour chaque pokemon\n",
    "info_cards = page.find_all(\"div\", class_=\"infocard\")\n",
    "\n",
    "l_pokemons = []\n",
    "\n",
    "for info_card in info_cards[:15]:\n",
    "   \n",
    "    # On filtre sur la classe et on prend l'attribut text\n",
    "    name_tag = info_card.find('a', class_=\"ent-name\")\n",
    "    name = name_tag.text\n",
    "    number = info_card.find('small').text[1:]\n",
    "    \n",
    "    url = \"https://pokemondb.net/pokedex/\" + name_tag.get(\"href\").split(\"/\")[2]\n",
    "    \n",
    "    # On peut le trouver ainsi\n",
    "    # types = info_card.find_all(\"small\")[1]\n",
    "    #print(types)\n",
    "    \n",
    "    # On peut aussi utiliser\n",
    "    types  = info_card.find('small').find_next(\"small\")#.text\n",
    "    \n",
    "    \n",
    "    #print(types)\n",
    "    types = [t.strip() for t in types.text.split(\" · \")]\n",
    "    \n",
    "    d = {\"name\":name, \"number\":number, \"types\":types, \"url\": url}\n",
    "   \n",
    "    l_pokemons.append(d)\n",
    "## Question 1 (partielle, il n'y a pas les types)\n"
   ]
  },
  {
   "cell_type": "code",
   "execution_count": 20,
   "metadata": {},
   "outputs": [],
   "source": [
    "# from pprint import pprint\n",
    "# pprint(l_pokemons)"
   ]
  },
  {
   "cell_type": "code",
   "execution_count": 21,
   "metadata": {},
   "outputs": [
    {
     "data": {
      "text/plain": [
       "{'name': 'Bulbasaur',\n",
       " 'number': '0001',\n",
       " 'types': ['Grass', 'Poison'],\n",
       " 'url': 'https://pokemondb.net/pokedex/bulbasaur'}"
      ]
     },
     "execution_count": 21,
     "metadata": {},
     "output_type": "execute_result"
    }
   ],
   "source": [
    "l_pokemons[0]"
   ]
  },
  {
   "cell_type": "code",
   "execution_count": 22,
   "metadata": {},
   "outputs": [
    {
     "name": "stdout",
     "output_type": "stream",
     "text": [
      "https://pokemondb.net/pokedex/bulbasaur\n",
      "['0.7\\xa0m (2′04″)', '6.9\\xa0kg (15.2\\xa0lbs)']\n",
      "https://pokemondb.net/pokedex/ivysaur\n",
      "['1.0\\xa0m (3′03″)', '13.0\\xa0kg (28.7\\xa0lbs)']\n"
     ]
    }
   ],
   "source": [
    "for pokemon in l_pokemons[:2]:\n",
    "    url = pokemon[\"url\"]\n",
    "    print(url)\n",
    "    \n",
    "    # Requête\n",
    "    response = requests.get(url)\n",
    "    content = response.content\n",
    "    page = BeautifulSoup(content, 'html.parser')\n",
    "    \n",
    "    # On récupère les nom des variables (en-têtes mais à gauche dans cette table)\n",
    "    ths = page.find(\"table\", class_=\"vitals-table\").find_all(\"th\")\n",
    "    \n",
    "    # On utilise find_next après avoir trouvé l'entête\n",
    "    # In this order\n",
    "    data = [th.find_next().text for th in ths if th.text in [\"Height\", \"Weight\"]]\n",
    "    print(data)\n",
    "    \n",
    "    height = data[0].split(\"(\")[0].replace(\"\\xa0\", \" \").strip()\n",
    "    weight = data[1].split(\"(\")[0].replace(\"\\xa0\", \" \").strip()\n",
    "\n",
    "    pokemon[\"height\"] = height\n",
    "    pokemon[\"weight\"] = weight"
   ]
  }
 ],
 "metadata": {
  "kernelspec": {
   "display_name": "Python 3 (ipykernel)",
   "language": "python",
   "name": "python3"
  },
  "language_info": {
   "codemirror_mode": {
    "name": "ipython",
    "version": 3
   },
   "file_extension": ".py",
   "mimetype": "text/x-python",
   "name": "python",
   "nbconvert_exporter": "python",
   "pygments_lexer": "ipython3",
   "version": "3.9.7"
  }
 },
 "nbformat": 4,
 "nbformat_minor": 4
}
